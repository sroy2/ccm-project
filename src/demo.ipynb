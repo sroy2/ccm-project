{
 "cells": [
  {
   "cell_type": "code",
   "execution_count": 1,
   "metadata": {},
   "outputs": [],
   "source": [
    "import model"
   ]
  },
  {
   "cell_type": "code",
   "execution_count": 2,
   "metadata": {},
   "outputs": [
    {
     "data": {
      "text/plain": [
       "'KumonTaskData.csv'"
      ]
     },
     "execution_count": 2,
     "metadata": {},
     "output_type": "execute_result"
    }
   ],
   "source": [
    "predictor = model.MaskedTokenBert()\n",
    "\n",
    "# We haven't specified any data in partcular, so it assumes the default file\n",
    "predictor.file"
   ]
  },
  {
   "cell_type": "markdown",
   "metadata": {},
   "source": [
    "All of the following functions will load data before proceeding:\n",
    "``` python\n",
    "predictor.tokenize_data()\n",
    "predictor.model()\n",
    "predictor.predict()\n",
    "```"
   ]
  },
  {
   "cell_type": "code",
   "execution_count": 3,
   "metadata": {},
   "outputs": [],
   "source": [
    "# If instead, you want to predict for a specific example use: .tokenize_data(example)\n",
    "example = \"[CLS] Who was Jim Henson ? [SEP] Jim [MASK] was a puppeteer [SEP]\"\n",
    "predictor.tokenize_data(example)"
   ]
  },
  {
   "cell_type": "code",
   "execution_count": 4,
   "metadata": {},
   "outputs": [
    {
     "data": {
      "text/plain": [
       "[[['henson', 'who']]]"
      ]
     },
     "execution_count": 4,
     "metadata": {},
     "output_type": "execute_result"
    }
   ],
   "source": [
    "# .predict(top_n) returns a list of top_n predictions for each [example[MASK]]; default=5\n",
    "predictor.predict(2)"
   ]
  },
  {
   "cell_type": "code",
   "execution_count": 5,
   "metadata": {},
   "outputs": [
    {
     "data": {
      "text/plain": [
       "[['cowboy', 'combat', 'tennis', 'hiking', 'football']]"
      ]
     },
     "execution_count": 5,
     "metadata": {},
     "output_type": "execute_result"
    }
   ],
   "source": [
    "# Let's retry with our dataset\n",
    "predictor = model.MaskedTokenBert()\n",
    "predictor.predict()[0]"
   ]
  },
  {
   "cell_type": "code",
   "execution_count": 6,
   "metadata": {},
   "outputs": [
    {
     "data": {
      "text/plain": [
       "'[CLS] I remember how much she wanted a pair of football boots just like her big brother’s, and she wore them to bed every night for a week. [SEP] She wanted a pair of [MASK] boots. [SEP]'"
      ]
     },
     "execution_count": 6,
     "metadata": {},
     "output_type": "execute_result"
    }
   ],
   "source": [
    "# .data stores the text being used to model and predict\n",
    "predictor.data[0]"
   ]
  },
  {
   "cell_type": "code",
   "execution_count": 7,
   "metadata": {},
   "outputs": [
    {
     "data": {
      "text/plain": [
       "tensor([[[-0.2618,  0.0729, -0.6069,  ..., -0.5260,  0.5045,  0.2083],\n",
       "         [ 0.0640,  0.1475, -0.1458,  ...,  0.1452,  0.4170, -0.4609],\n",
       "         [ 0.0848,  0.4831,  0.0085,  ...,  0.2944, -0.1135, -0.4246],\n",
       "         ...,\n",
       "         [ 1.2831, -0.0580,  0.0136,  ..., -0.4035, -0.6010, -0.7674],\n",
       "         [ 0.6358, -0.0315, -0.4482,  ...,  0.1102, -0.4142, -0.5990],\n",
       "         [ 0.6308, -0.0439, -0.3949,  ...,  0.1086, -0.4175, -0.5768]]])"
      ]
     },
     "execution_count": 7,
     "metadata": {},
     "output_type": "execute_result"
    }
   ],
   "source": [
    "# The model also saves the hidden state of the last Bert model layer\n",
    "predictor.encoded_layers[0]"
   ]
  },
  {
   "cell_type": "code",
   "execution_count": 8,
   "metadata": {},
   "outputs": [
    {
     "data": {
      "text/html": [
       "<div>\n",
       "<style scoped>\n",
       "    .dataframe tbody tr th:only-of-type {\n",
       "        vertical-align: middle;\n",
       "    }\n",
       "\n",
       "    .dataframe tbody tr th {\n",
       "        vertical-align: top;\n",
       "    }\n",
       "\n",
       "    .dataframe thead th {\n",
       "        text-align: right;\n",
       "    }\n",
       "</style>\n",
       "<table border=\"1\" class=\"dataframe\">\n",
       "  <thead>\n",
       "    <tr style=\"text-align: right;\">\n",
       "      <th></th>\n",
       "      <th>Kumon Level</th>\n",
       "      <th>Workbook Page</th>\n",
       "      <th>Average Score</th>\n",
       "      <th>Task</th>\n",
       "      <th>Masked Words</th>\n",
       "    </tr>\n",
       "  </thead>\n",
       "  <tbody>\n",
       "    <tr>\n",
       "      <th>0</th>\n",
       "      <td>AII</td>\n",
       "      <td>138.0</td>\n",
       "      <td>93.0</td>\n",
       "      <td>[CLS] I remember how much she wanted a pair of...</td>\n",
       "      <td>[football]</td>\n",
       "    </tr>\n",
       "  </tbody>\n",
       "</table>\n",
       "</div>"
      ],
      "text/plain": [
       "  Kumon Level  Workbook Page  Average Score  \\\n",
       "0         AII          138.0           93.0   \n",
       "\n",
       "                                                Task Masked Words  \n",
       "0  [CLS] I remember how much she wanted a pair of...   [football]  "
      ]
     },
     "execution_count": 8,
     "metadata": {},
     "output_type": "execute_result"
    }
   ],
   "source": [
    "# .df stores a pandas df with the .csv se we can reference other columns\n",
    "predictor.df.head(1)"
   ]
  },
  {
   "cell_type": "code",
   "execution_count": 9,
   "metadata": {},
   "outputs": [
    {
     "name": "stdout",
     "output_type": "stream",
     "text": [
      "(0,0: actual=football bert=cowboy\n",
      "football was bert's #5 choice\n",
      "(2,0: actual=piggy bert=green\n",
      "(2,1: actual=bank bert=rabbit\n",
      "(6,1: actual=spacebus bert=day\n",
      "(7,0: actual=Roboto bert=k\n",
      "(8,1: actual=understand bert=smile\n",
      "understand was bert's #5 choice\n",
      "(12,1: actual=started bert=was\n",
      "started was bert's #2 choice\n",
      "(13,1: actual=daisies bert=flowers\n",
      "(17,0: actual=singing bert=still\n",
      "(17,1: actual=cheerfully bert=singing\n",
      "(18,0: actual=knew bert=trouble\n",
      "18,1 broke... moving on\n",
      "(22,0: actual=Lisa bert=she\n",
      "(22,2: actual=says bert=thinks\n",
      "says was bert's #2 choice\n",
      "(22,3: actual=aunt bert=cousin\n",
      "aunt was bert's #5 choice\n",
      "(23,0: actual=sliced bert=fresh\n",
      "(23,1: actual=steaming bert=delicious\n",
      "steaming was bert's #3 choice\n",
      "(25,1: actual=snakes bert=eels\n",
      "snakes was bert's #2 choice\n",
      "(25,2: actual=eels bert=.\n",
      "(26,0: actual=miserable bert=whole\n",
      "(26,1: actual=of bert=to\n",
      "of was bert's #2 choice\n",
      "(26,2: actual=scraps bert=now\n",
      "(27,0: actual=lumpy bert=cold\n",
      "(29,0: actual=hoping bert=going\n",
      "(30,0: actual=buttoned bert=tied\n",
      "(31,0: actual=sings bert=sighs\n",
      "(31,1: actual=It bert=it\n",
      "(32,0: actual=heavy bert=no\n",
      "(32,1: actual=wooden bert=no\n",
      "wooden was bert's #3 choice\n",
      "(32,3: actual=swing bert=open\n",
      "swing was bert's #2 choice\n",
      "(32,4: actual=loosely bert=open\n",
      "(33,0: actual=No bert=generally\n",
      "(33,1: actual=cement bert=stone\n",
      "cement was bert's #3 choice\n",
      "(34,1: actual=just bert=stared\n",
      "(34,2: actual=stared bert=looked\n",
      "stared was bert's #2 choice\n",
      "(36,1: actual=yelled bert=screamed\n",
      "yelled was bert's #2 choice\n",
      "(38,0: actual=shrieked bert=screamed\n",
      "(40,0: actual=toes bert=tail\n",
      "toes was bert's #4 choice\n",
      "(41,0: actual=motley bert=old\n",
      "(43,0: actual=opened bert=closed\n",
      "opened was bert's #2 choice\n",
      "(43,1: actual=jumped bert=heard\n",
      "(43,2: actual=three bert=the\n",
      "(43,3: actual=feet bert=again\n",
      "(45,0: actual=washer bert=bathroom\n",
      "(45,2: actual=dryer bert=bathroom\n",
      "(46,0: actual=start bert=be\n",
      "start was bert's #2 choice\n",
      "(46,1: actual=a bert=the\n",
      "a was bert's #2 choice\n",
      "(46,2: actual=school bert=the\n",
      "(46,3: actual=newspaper bert=again\n",
      "(47,1: actual=bleacher bert=graders\n",
      "(47,2: actual=section bert=was\n",
      "(48,0: actual=Jackie bert=i\n",
      "(48,2: actual=emergency bert=the\n",
      "(48,3: actual=stop bert=button\n",
      "(49,0: actual=made bert=was\n",
      "(49,1: actual=another bert=was\n",
      "(49,2: actual=announcement bert=again\n",
      "(51,0: actual=repeated bert=was\n",
      "(51,1: actual=his bert=to\n",
      "(51,2: actual=question bert=again\n",
      "(52,0: actual=Venus bert=\"\n",
      "(52,1: actual=is bert=asked\n",
      "(52,2: actual=from bert=said\n",
      "(52,3: actual=Greece bert=rupert\n",
      "(53,0: actual=the bert=they\n",
      "the was bert's #2 choice\n",
      "(53,1: actual=statues bert=they\n",
      "(53,2: actual=tell bert=will\n",
      "(53,3: actual=stories bert=talk\n",
      "(54,0: actual=overturning bert=kicking\n",
      "(56,0: actual=arched bert=rubbed\n",
      "arched was bert's #2 choice\n",
      "(58,0: actual=just bert=have\n",
      "(59,0: actual=passengers bert=time\n",
      "(61,0: actual=porpoise bert=dolphin\n",
      "(63,0: actual=sociable bert=friendly\n",
      "(64,0: actual=plan bert=decision\n",
      "plan was bert's #3 choice\n",
      "(66,1: actual=express bert=telegraph\n",
      "express was bert's #4 choice\n",
      "(67,0: actual=messengers bert=about\n",
      "(68,0: actual=abandoned bert=discontinued\n",
      "abandoned was bert's #2 choice\n",
      "Bert got 75/152 correct.\n"
     ]
    },
    {
     "data": {
      "text/plain": [
       "0.49"
      ]
     },
     "execution_count": 9,
     "metadata": {},
     "output_type": "execute_result"
    }
   ],
   "source": [
    "# .score(show_wrong=True) scores Bert's predictions (and prints the wrong answers)\n",
    "predictor.score(show_wrong=True)"
   ]
  },
  {
   "cell_type": "code",
   "execution_count": null,
   "metadata": {},
   "outputs": [],
   "source": []
  }
 ],
 "metadata": {
  "kernelspec": {
   "display_name": "Python 3",
   "language": "python",
   "name": "python3"
  },
  "language_info": {
   "codemirror_mode": {
    "name": "ipython",
    "version": 3
   },
   "file_extension": ".py",
   "mimetype": "text/x-python",
   "name": "python",
   "nbconvert_exporter": "python",
   "pygments_lexer": "ipython3",
   "version": "3.7.7"
  }
 },
 "nbformat": 4,
 "nbformat_minor": 4
}
