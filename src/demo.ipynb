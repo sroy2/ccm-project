{
 "cells": [
  {
   "cell_type": "code",
   "execution_count": 1,
   "metadata": {},
   "outputs": [],
   "source": [
    "import model"
   ]
  },
  {
   "cell_type": "code",
   "execution_count": 2,
   "metadata": {},
   "outputs": [
    {
     "data": {
      "text/plain": [
       "'masked_data.txt'"
      ]
     },
     "execution_count": 2,
     "metadata": {},
     "output_type": "execute_result"
    }
   ],
   "source": [
    "predictor = model.MaskedTokenBert()\n",
    "\n",
    "# We haven't specified any data in partcular, so it assumes the default file\n",
    "predictor.file"
   ]
  },
  {
   "cell_type": "markdown",
   "metadata": {},
   "source": [
    "All of the following functions will load data before proceeding:\n",
    "``` python\n",
    "predictor.tokenize_data()\n",
    "predictor.model()\n",
    "predictor.predict()\n",
    "```"
   ]
  },
  {
   "cell_type": "code",
   "execution_count": 3,
   "metadata": {},
   "outputs": [],
   "source": [
    "# If instead, you want to predict for a specific example use: .tokenize_data(example)\n",
    "example = \"[CLS] Who was Jim Henson ? [SEP] Jim [MASK] was a puppeteer [SEP]\"\n",
    "predictor.tokenize_data(example)"
   ]
  },
  {
   "cell_type": "code",
   "execution_count": 4,
   "metadata": {},
   "outputs": [
    {
     "data": {
      "text/plain": [
       "[[['henson', 'who']]]"
      ]
     },
     "execution_count": 4,
     "metadata": {},
     "output_type": "execute_result"
    }
   ],
   "source": [
    "# .predict(top_n) returns a list of top_n predictions for each [example[MASK]]; default=5\n",
    "predictor.predict(2)"
   ]
  },
  {
   "cell_type": "code",
   "execution_count": 5,
   "metadata": {},
   "outputs": [
    {
     "data": {
      "text/plain": [
       "[[['he', 'she', 'they', 'i', 'it'],\n",
       "  ['arrow', 'arrows', 'apple', 'object', 'egg']],\n",
       " [['flew', 'disappeared', 'jumped', 'dove', 'vanished'],\n",
       "  ['sky', 'sunset', 'night', 'air', 'field']]]"
      ]
     },
     "execution_count": 5,
     "metadata": {},
     "output_type": "execute_result"
    }
   ],
   "source": [
    "# Let's retry with our dataset\n",
    "predictor = model.MaskedTokenBert()\n",
    "predictor.predict()"
   ]
  },
  {
   "cell_type": "code",
   "execution_count": 6,
   "metadata": {},
   "outputs": [
    {
     "data": {
      "text/plain": [
       "['“[CLS] In the middle of the field, the boy found a white crane with an arrow stuck in its side. He removed the arrow and comforted the crane. The crane looked at him gratefully and flew into the sunset. [SEP] What did the boy remove from the crane? [MASK] removed an [MASK] from the crane. [SEP]”\\n',\n",
       " '“[CLS] In the middle of the field, the boy found a white crane with an arrow stuck in its side. He removed the arrow and comforted the crane. The crane looked at him gratefully and flew into the sunset. [SEP] Where did the crane fly? The white crane [MASK] into the [MASK]. [SEP]”\\n']"
      ]
     },
     "execution_count": 6,
     "metadata": {},
     "output_type": "execute_result"
    }
   ],
   "source": [
    "# .data stores the text being used to model and predict\n",
    "predictor.data"
   ]
  },
  {
   "cell_type": "code",
   "execution_count": 7,
   "metadata": {},
   "outputs": [
    {
     "data": {
      "text/plain": [
       "[tensor([[[-0.3174,  0.3866, -0.6501,  ..., -0.5867,  0.4085,  0.0399],\n",
       "          [-0.3767,  0.3963, -0.6726,  ..., -0.6043,  0.4153, -0.0046],\n",
       "          [-0.5341, -0.4559, -0.4393,  ..., -0.4171,  0.1158,  0.2420],\n",
       "          ...,\n",
       "          [ 0.7251,  0.1884, -0.3421,  ...,  0.1891, -0.5506, -0.5664],\n",
       "          [ 0.7115,  0.1987, -0.2980,  ...,  0.2008, -0.5869, -0.5222],\n",
       "          [ 0.0840,  0.2448,  0.1986,  ...,  0.5946,  0.2841, -0.1704]]]),\n",
       " tensor([[[-0.3616,  0.4512, -0.7004,  ..., -0.4258,  0.5179,  0.2324],\n",
       "          [-0.4165,  0.4532, -0.7416,  ..., -0.4443,  0.5432,  0.1797],\n",
       "          [-0.5540, -0.4468, -0.5273,  ..., -0.3198,  0.0973,  0.2945],\n",
       "          ...,\n",
       "          [ 0.6933,  0.1489, -0.3775,  ...,  0.1667, -0.5529, -0.5447],\n",
       "          [ 0.6656,  0.1716, -0.3321,  ...,  0.1957, -0.5779, -0.4944],\n",
       "          [ 0.3620, -0.1779,  0.0050,  ...,  0.2731,  0.2689, -0.0401]]])]"
      ]
     },
     "execution_count": 7,
     "metadata": {},
     "output_type": "execute_result"
    }
   ],
   "source": [
    "# The model also saves the hidden state of the last Bert model layer\n",
    "predictor.encoded_layers"
   ]
  }
 ],
 "metadata": {
  "kernelspec": {
   "display_name": "Python 3",
   "language": "python",
   "name": "python3"
  },
  "language_info": {
   "codemirror_mode": {
    "name": "ipython",
    "version": 3
   },
   "file_extension": ".py",
   "mimetype": "text/x-python",
   "name": "python",
   "nbconvert_exporter": "python",
   "pygments_lexer": "ipython3",
   "version": "3.7.7"
  }
 },
 "nbformat": 4,
 "nbformat_minor": 4
}
